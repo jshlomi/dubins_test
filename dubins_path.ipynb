{
 "cells": [
  {
   "cell_type": "code",
   "execution_count": null,
   "metadata": {
    "scrolled": false
   },
   "outputs": [
    {
     "data": {
      "application/vnd.jupyter.widget-view+json": {
       "model_id": "e3eba77a5c964214b7d4ad29435d434d",
       "version_major": 2,
       "version_minor": 0
      },
      "text/plain": [
       "interactive(children=(Text(value='70', description='car_speed_kph'), Text(value='37', description='final_angle…"
      ]
     },
     "metadata": {},
     "output_type": "display_data"
    }
   ],
   "source": [
    "import numpy as np\n",
    "import matplotlib.pyplot as plt\n",
    "import ipywidgets as widgets\n",
    "from ipywidgets import interact, interact_manual\n",
    "\n",
    "#from plot_func import *\n",
    "\n",
    "interact(plot_traj);"
   ]
  },
  {
   "cell_type": "code",
   "execution_count": 32,
   "metadata": {},
   "outputs": [],
   "source": [
    "import numpy as np\n",
    "import matplotlib.pyplot as plt\n",
    "\n",
    "from matplotlib.offsetbox import OffsetImage, AnnotationBbox\n",
    "from matplotlib.patches import Arc\n",
    "\n",
    "\n",
    "def plot_traj(car_speed_kph='70',\n",
    "              \n",
    "             final_angle_deg='37',\n",
    "             gravity_center_h='0.5',\n",
    "             car_width='1.84',\n",
    "             road_width='3.6'):\n",
    "    car_speed_kph = float(car_speed_kph)\n",
    "    total_distance = 94 #meters\n",
    "    car_speed = (car_speed_kph*1000)/(3600.0) #meter/sec\n",
    "    car_width = float(car_width)\n",
    "    gravity_center_h = float(gravity_center_h)\n",
    "    gravity = 9.8\n",
    "    min_radius = ((car_speed**2)*(2*gravity_center_h))/(gravity*car_width)\n",
    "    \n",
    "    #if turn_radius!='-1':\n",
    "     #   min_radius = float(turn_radius)\n",
    "\n",
    "    road_width = float(road_width)\n",
    "    final_angle_deg = 90-float(final_angle_deg)\n",
    "    final_angle = (2.0*np.pi)*(final_angle_deg/360.0)\n",
    "    \n",
    "    circle_center = [ road_width+min_radius*np.cos(np.pi/2-final_angle),\n",
    "                     total_distance-min_radius*np.sin(np.pi/2-final_angle)]\n",
    "    \n",
    "    \n",
    "    \n",
    "    x1, y1, theta1 = road_width,total_distance,final_angle\n",
    "    q1 = (x1, y1, theta1)\n",
    "    \n",
    "    fig,ax = plt.subplots(figsize=(8,22))\n",
    "    \n",
    "    ax.text(-0.8*road_width,total_distance*1.08,'Radius: '+'{0:.2f}'.format(min_radius)+' meter',fontsize=21)\n",
    "    \n",
    "    ax.plot([circle_center[0],circle_center[0]-min_radius*np.cos(np.pi/2-final_angle)],\n",
    "           [circle_center[1],circle_center[1]+min_radius*np.sin(np.pi/2-final_angle)],\n",
    "           c='k')\n",
    "\n",
    "    ax.plot([0,0],[0,total_distance*2],c='k')\n",
    "    ax.plot([road_width,road_width],[0,total_distance*2],c='gold',linestyle='--')\n",
    "\n",
    "    ax.plot([road_width*2,road_width*2],[0,total_distance*2],c='k')\n",
    "    ax.fill_between([0,road_width*2], 0, [total_distance*2,total_distance*2],color='gray',alpha=0.1)\n",
    "\n",
    "\n",
    "\n",
    "    for q in [q1]:\n",
    "        ax.scatter(q[0],q[1],c='r')\n",
    "        ax.arrow(q[0],q[1],5*np.cos(q[2]),5*np.sin(q[2]),head_width=0.4)\n",
    "\n",
    "\n",
    "    ax.plot( [circle_center[0]+min_radius*np.cos(x) for x in np.linspace(0,2*np.pi,100)]\n",
    "              , [circle_center[1]+min_radius*np.sin(x) for x in np.linspace(0,2*np.pi,100)] )\n",
    "    \n",
    "    ax.plot([q1[0]-0.6*road_width,q1[0]+0.6*road_width],[q1[1],q1[1]],linestyle='--',c='k')\n",
    "    ax.plot([q1[0],q1[0]],[q1[1]-0.6*road_width,q1[1]+0.6*road_width],linestyle='--',c='k')\n",
    "\n",
    "    ax.add_patch(Arc((q1[0], q1[1]), 2, 3, \n",
    "                 theta1=final_angle_deg, theta2=90, edgecolor='r'))\n",
    "\n",
    "\n",
    "    ax.set_xlim(-road_width,6*road_width)\n",
    "    ax.set_ylim(total_distance*0.8,total_distance*1.1)\n",
    "    ax.set_aspect(1)\n",
    "    plt.show()"
   ]
  },
  {
   "cell_type": "code",
   "execution_count": null,
   "metadata": {},
   "outputs": [],
   "source": []
  }
 ],
 "metadata": {
  "kernelspec": {
   "display_name": "Python 3",
   "language": "python",
   "name": "python3"
  },
  "language_info": {
   "codemirror_mode": {
    "name": "ipython",
    "version": 3
   },
   "file_extension": ".py",
   "mimetype": "text/x-python",
   "name": "python",
   "nbconvert_exporter": "python",
   "pygments_lexer": "ipython3",
   "version": "3.7.3"
  }
 },
 "nbformat": 4,
 "nbformat_minor": 2
}
